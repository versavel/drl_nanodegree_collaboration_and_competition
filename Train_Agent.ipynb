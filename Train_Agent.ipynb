{
 "cells": [
  {
   "cell_type": "markdown",
   "metadata": {},
   "source": [
    "# Project #3 : Collaboration and Competition\n",
    "\n",
    "## DDPG Training Algorithm\n",
    "\n",
    "---\n",
    "\n",
    "This notebook implements my solution for the Continous Control project of the [Deep Reinforcement Learning Nanodegree](https://www.udacity.com/course/deep-reinforcement-learning-nanodegree--nd893) program.\n",
    "\n",
    "I implemented the Deep Deterministic Policy Gradient (DDPG) training algorithm for the Unity Reacher environment.\n",
    "\n",
    "The code in this notebook (Continuous_Control.ipynb), the ddpg_agent.py, and model.py files is derived from the 'ddpg-pendulum' code example used in the nanodegree program. The code was modified to successfully train both the single agent and multiple agents version of the the Unity Reacher environment. The code also implements the logic to stop the training when the environment is considered solved. The project requirement is to reach an average score of 30, measured over the last 100 training episodes. In the case of the multiple agents version, the episode score is the mean of the agents' scores of the episode."
   ]
  },
  {
   "cell_type": "markdown",
   "metadata": {},
   "source": [
    "### 1. Install Python Packages\n",
    "\n",
    "If you haven't done so already, run this command to install a few packages in your computing environment.  This line may take a few minutes to run!"
   ]
  },
  {
   "cell_type": "code",
   "execution_count": 1,
   "metadata": {},
   "outputs": [],
   "source": [
    "#!pip -q install ./python"
   ]
  },
  {
   "cell_type": "markdown",
   "metadata": {},
   "source": [
    "### 2. Import libraries"
   ]
  },
  {
   "cell_type": "code",
   "execution_count": 2,
   "metadata": {},
   "outputs": [
    {
     "name": "stdout",
     "output_type": "stream",
     "text": [
      "\n",
      "   *****************\n",
      "   *** Using CPU ***\n",
      "   *****************\n",
      "\n"
     ]
    }
   ],
   "source": [
    "import torch\n",
    "import numpy as np\n",
    "from collections import deque\n",
    "import time\n",
    "\n",
    "from unityagents import UnityEnvironment\n",
    "from maddpg_agent import MADDPG_Agent"
   ]
  },
  {
   "cell_type": "markdown",
   "metadata": {},
   "source": [
    "### 3. Instantiate the Unity Tennis environment"
   ]
  },
  {
   "cell_type": "markdown",
   "metadata": {},
   "source": [
    "Next, we will start the environment!  **_Before running the code cell below_**, change the `file_name` parameter to match the location of the Unity environment that you downloaded.\n",
    "\n",
    "- **Mac**: `\"path/to/Tennis.app\"`\n",
    "- **Windows** (x86): `\"path/to/Tennis_Windows_x86/Tennis.exe\"`\n",
    "- **Windows** (x86_64): `\"path/to/Tennis_Windows_x86_64/Tennis.exe\"`\n",
    "- **Linux** (x86): `\"path/to/Tennis_Linux/Tennis.x86\"`\n",
    "- **Linux** (x86_64): `\"path/to/Tennis_Linux/Tennis.x86_64\"`\n",
    "- **Linux** (x86, headless): `\"path/to/Tennis_Linux_NoVis/Tennis.x86\"`\n",
    "- **Linux** (x86_64, headless): `\"path/to/Tennis_Linux_NoVis/Tennis.x86_64\"`\n",
    "\n",
    "For instance, if you are using a Mac, then you downloaded `Tennis.app`.  If this file is in the same folder as the notebook, then the line below should appear as follows:\n",
    "```\n",
    "env = UnityEnvironment(file_name=\"Tennis.app\")\n",
    "```"
   ]
  },
  {
   "cell_type": "code",
   "execution_count": 3,
   "metadata": {},
   "outputs": [
    {
     "name": "stderr",
     "output_type": "stream",
     "text": [
      "INFO:unityagents:\n",
      "'Academy' started successfully!\n",
      "Unity Academy name: Academy\n",
      "        Number of Brains: 1\n",
      "        Number of External Brains : 1\n",
      "        Lesson number : 0\n",
      "        Reset Parameters :\n",
      "\t\t\n",
      "Unity brain name: TennisBrain\n",
      "        Number of Visual Observations (per agent): 0\n",
      "        Vector Observation space type: continuous\n",
      "        Vector Observation space size (per agent): 8\n",
      "        Number of stacked Vector Observation: 3\n",
      "        Vector Action space type: continuous\n",
      "        Vector Action space size (per agent): 2\n",
      "        Vector Action descriptions: , \n"
     ]
    }
   ],
   "source": [
    "# on my iMac \n",
    "env = UnityEnvironment(file_name=\"Tennis.app\")\n",
    "\n",
    "# in my Udacity Workspace\n",
    "#env = UnityEnvironment(file_name='/data/Tennis_Linux/Tennis.x86_64')\n",
    "\n",
    "# on my AWS instance\n",
    "#env = UnityEnvironment(file_name='./Tennis_Linux/Tennis.x86_64')"
   ]
  },
  {
   "cell_type": "markdown",
   "metadata": {},
   "source": [
    "Environments contain **_brains_** which are responsible for deciding the actions of their associated agents. Here we check for the first brain available, and set it as the default brain we will be controlling from Python."
   ]
  },
  {
   "cell_type": "code",
   "execution_count": 4,
   "metadata": {
    "scrolled": true
   },
   "outputs": [
    {
     "name": "stdout",
     "output_type": "stream",
     "text": [
      "Number of agents    : 2\n",
      "Size of each action :  2\n",
      "Size of each state  : 24\n"
     ]
    }
   ],
   "source": [
    "# get the default brain\n",
    "brain_name = env.brain_names[0]\n",
    "brain = env.brains[brain_name]\n",
    "\n",
    "# reset the environment and activate the training mode\n",
    "env_info = env.reset(train_mode=True)[brain_name]\n",
    "\n",
    "# number of agents\n",
    "num_agents = len(env_info.agents)\n",
    "print('Number of agents    :', num_agents)\n",
    "\n",
    "# action size\n",
    "action_size = brain.vector_action_space_size\n",
    "print('Size of each action : ', action_size)\n",
    "\n",
    "# state size\n",
    "states = env_info.vector_observations\n",
    "state_size = states.shape[1]\n",
    "print('Size of each state  :', state_size)"
   ]
  },
  {
   "cell_type": "markdown",
   "metadata": {},
   "source": [
    "### 4. Instantiate the Agent"
   ]
  },
  {
   "cell_type": "code",
   "execution_count": 5,
   "metadata": {},
   "outputs": [],
   "source": [
    "# set the agent and model hyperparameters\n",
    "\n",
    "class Config():\n",
    "    def __init__(self):\n",
    "        self.SEED = 31415            # seed for random number generator\n",
    "        self.PRINT_EVERY = 100       # number of episodes after which the training procedures prints out a persistent update\n",
    "\n",
    "        self.TARGET_SCORE = 0.5      # target score; training is complete when target score is met\n",
    "        self.WINDOW_SIZE = 100       # number of episodes over which the average episode score is calculated\n",
    "        \n",
    "        self.BUFFER_SIZE = int(1e6)  # replay buffer size\n",
    "        self.BATCH_SIZE = 128        # minibatch size\n",
    "\n",
    "        self.LR_ACTOR = 1e-4         # learning rate of the actor \n",
    "        self.LR_CRITIC = 5e-4        # learning rate of the critic\n",
    "\n",
    "        self.LEARN_EVERY = 1         # learning timestep interval\n",
    "        self.LEARN_NUM = 1           # number of learning passes\n",
    "        \n",
    "        self.GAMMA = 0.99            # reward discount factor\n",
    "        self.TAU = 0.05              # soft update of target parameters\n",
    "\n",
    "        self.ADD_NOISE = True        # if True, Ornstein-Uhlenbeck Noise is added to actions\n",
    "        self.OU_SIGMA = 0.2          # Ornstein-Uhlenbeck noise parameter volatility\n",
    "        self.OU_THETA = 0.12         # Ornstein-Uhlenbeck noise parameter speed of mean reversion\n",
    "        self.EPS_INITIAL = 5.5       # initial value of epsilon in Ornstein-Uhlenbeck noise process\n",
    "        self.EPS_TERMINAL = 0        # terminal value of epsilon in Ornstein-Uhlenbeck noise process\n",
    "        self.EPS_DECAY = 250         # number of episodes over which epsilon decays in OU noise process\n",
    "\n",
    "        self.FC1_UNITS_ACTOR = 256   # number of nodes in Actor's first fully connected layer\n",
    "        self.FC2_UNITS_ACTOR = 128   # number of nodes in Actor's second fully connected layer\n",
    "        self.FCS1_UNITS_CRITIC = 256 # number of nodes in Critic's first fully connected layer\n",
    "        self.FC2_UNITS_CRITIC = 128  # number of nodes in Critic's second fully connected layer\n",
    "\n",
    "config = Config()"
   ]
  },
  {
   "cell_type": "code",
   "execution_count": 6,
   "metadata": {},
   "outputs": [],
   "source": [
    "# initialize agents\n",
    "agent_0 = MADDPG_Agent(state_size, action_size, 1, config)\n",
    "agent_1 = MADDPG_Agent(state_size, action_size, 1, config)"
   ]
  },
  {
   "cell_type": "markdown",
   "metadata": {},
   "source": [
    "### 5. Train the Agent"
   ]
  },
  {
   "cell_type": "code",
   "execution_count": 7,
   "metadata": {},
   "outputs": [],
   "source": [
    "# Training Routine\n",
    "\n",
    "def train_agent(n_episodes, max_t, train_mode, config):\n",
    "    \"\"\"Run training process\n",
    "    \n",
    "    Arguments:\n",
    "        n_episodes (int)      : maximum number of training episodes\n",
    "        max_t (int)           : maximum number of timesteps per episode\n",
    "        train_mode (bool)     : if 'True' set environment to training mode\n",
    "        config (dict)   : the agent and neural network hyperparamters\n",
    "\n",
    "    \"\"\"\n",
    "\n",
    "    scores = []                                # container for all episode scores\n",
    "    scores_deque = deque(maxlen = config.WINDOW_SIZE) # deque for episode scores in sliding window\n",
    "    moving_average_scores = []                 # container for the moving average scores \n",
    "    best_score = -np.Inf                       # the highest moving average score achieved\n",
    "    start_time =  time.time()                  # start time, required to calculate the total training time\n",
    "    environment_solved = False                 # True when TARGET_SCORE is reached and environment is solved\n",
    "    solved_episode = 0                         # episode in which environment is solved\n",
    "\n",
    "    for i_episode in range(1, n_episodes+1):\n",
    "        env_info = env.reset(train_mode=train_mode)[brain_name]   # reset the environment\n",
    "        states = np.reshape(env_info.vector_observations, (1,48)) # get states and combine them\n",
    "        agent_0.reset()\n",
    "        agent_1.reset()\n",
    "        player_scores = np.zeros(num_agents)\n",
    "        t = 0\n",
    "        while t < max_t:\n",
    "            '''gets actions for each agent and then combines them into one array'''\n",
    "            a0 = agent_0.act(states, config.ADD_NOISE)           # agent 0 chooses an action\n",
    "            a1 = agent_1.act(states, config.ADD_NOISE)           # agent 1 chooses an action\n",
    "            actions = np.concatenate((a0, a1), axis=0).flatten() # combine agent actions\n",
    "            env_info = env.step(actions)[brain_name]             # send both agents' actions together to the environment\n",
    "            next_states = np.reshape(env_info.vector_observations, (1, 48)) # combine the agent next states\n",
    "            rewards = env_info.rewards                           # get reward\n",
    "            dones = env_info.local_done                          # see if episode finished\n",
    "            agent_0.step(states, actions, rewards[0], next_states, dones, 0) # agent 1 learns\n",
    "            agent_1.step(states, actions, rewards[1], next_states, dones, 1) # agent 2 learns\n",
    "            player_scores += rewards                             # update the score for each player\n",
    "            t += 1\n",
    "            states = next_states                                 # roll over states to next time step\n",
    "            if np.any(dones):                                    # exit loop if episode finished\n",
    "                break\n",
    "\n",
    "        # calculate the episode score: best player's score\n",
    "        episode_score = np.max(player_scores)\n",
    "\n",
    "        # update the sliding window of episode scores\n",
    "        scores_deque.append(episode_score)\n",
    "\n",
    "        # append the average episode score to the scores array \n",
    "        scores.append(episode_score)\n",
    "\n",
    "        # update and store the average sliding score\n",
    "        moving_average_score = np.mean(scores_deque)\n",
    "        moving_average_scores.append(moving_average_score)\n",
    "\n",
    "        # update time the training process has lasted thus far, in minutes\n",
    "        training_time = time.time() - start_time\n",
    "\n",
    "        # after each episode, update the printout of the episode and sliding average scores\n",
    "        print('\\rEpisode {:}\\tScore: {:.3f}\\tMoving Score: {:.3f}\\tClock: {}'\n",
    "            .format(i_episode,\\\n",
    "                    episode_score,\\\n",
    "                    moving_average_score,\\\n",
    "                    int(training_time)),\\\n",
    "                    end=\"\")\n",
    "\n",
    "        # after every PRINT_EVERY episode, print the sliding average score\n",
    "        if i_episode % config.PRINT_EVERY == 0:\n",
    "            print('\\rEpisodes {:3}-{:3}\\tMax: {:.3f}\\tMoving Average: {:.3f}\\tClock: {}'\n",
    "            .format(i_episode-config.PRINT_EVERY,\\\n",
    "                    i_episode,\\\n",
    "                    max(scores[-config.PRINT_EVERY:]),\\\n",
    "                    moving_average_score,\\\n",
    "                    int(training_time)))\n",
    "            \n",
    "        # determine if environment is solved\n",
    "        if (not environment_solved) and (moving_average_score >= config.TARGET_SCORE):\n",
    "            print('\\n--> Environment Solved in {:d} episodes!'.format(i_episode - config.WINDOW_SIZE))\n",
    "            environment_solved = True\n",
    "            solved_episode = i_episode\n",
    "            \n",
    "        # save the model weights if the average episode score improved\n",
    "        if (environment_solved) and (i_episode >= config.WINDOW_SIZE) and (episode_score > best_score):\n",
    "            # update best_score\n",
    "            best_score = episode_score\n",
    "            # save weights\n",
    "            torch.save(agent_0.actor_local.state_dict(), 'checkpoint_actor_0.pth')\n",
    "            torch.save(agent_0.critic_local.state_dict(), 'checkpoint_critic_0.pth')\n",
    "            torch.save(agent_1.actor_local.state_dict(), 'checkpoint_actor_1.pth')\n",
    "            torch.save(agent_1.critic_local.state_dict(), 'checkpoint_critic_1.pth')\n",
    "\n",
    "    # determine if environment is solved\n",
    "    if (not environment_solved):\n",
    "        print('\\nCould not solve the environment')\n",
    "    else:\n",
    "        print('\\nEnvironment Solved in {:d} episodes !'.format(solved_episode))     \n",
    "            \n",
    "    return scores, moving_average_scores"
   ]
  },
  {
   "cell_type": "code",
   "execution_count": 8,
   "metadata": {},
   "outputs": [
    {
     "name": "stdout",
     "output_type": "stream",
     "text": [
      "Episodes   0-100\tMax: 0.100\tMoving Average: 0.002\tClock: 23\n",
      "Episodes 100-200\tMax: 0.200\tMoving Average: 0.007\tClock: 49\n",
      "Episodes 200-300\tMax: 0.200\tMoving Average: 0.016\tClock: 79\n",
      "Episodes 300-400\tMax: 0.300\tMoving Average: 0.038\tClock: 117\n",
      "Episodes 400-500\tMax: 0.200\tMoving Average: 0.060\tClock: 163\n",
      "Episodes 500-600\tMax: 0.900\tMoving Average: 0.099\tClock: 238\n",
      "Episodes 600-700\tMax: 2.000\tMoving Average: 0.206\tClock: 379\n",
      "Episodes 700-800\tMax: 2.600\tMoving Average: 0.208\tClock: 521\n",
      "Episodes 800-900\tMax: 2.600\tMoving Average: 0.207\tClock: 664\n",
      "Episodes 900-1000\tMax: 1.600\tMoving Average: 0.199\tClock: 802\n",
      "Episodes 1000-1100\tMax: 1.400\tMoving Average: 0.138\tClock: 892\n",
      "Episodes 1100-1200\tMax: 2.600\tMoving Average: 0.245\tClock: 1063\n",
      "Episodes 1200-1300\tMax: 2.600\tMoving Average: 0.197\tClock: 1205\n",
      "Episodes 1300-1400\tMax: 2.600\tMoving Average: 0.340\tClock: 1462\n",
      "Episode 1489\tScore: 0.400\tMoving Score: 0.500\tClock: 1832\n",
      "--> Environment Solved in 1389 episodes!\n",
      "Episodes 1400-1500\tMax: 2.600\tMoving Average: 0.648\tClock: 1958\n",
      "\n",
      "Environment Solved in 1489 episodes !\n"
     ]
    }
   ],
   "source": [
    "# run the training loop\n",
    "n_episodes = 1500\n",
    "max_t = 1000\n",
    "train_mode = True\n",
    "\n",
    "scores, moving_average_scores = train_agent(n_episodes, max_t, train_mode, config)"
   ]
  },
  {
   "cell_type": "code",
   "execution_count": 9,
   "metadata": {},
   "outputs": [],
   "source": [
    "env.close()"
   ]
  },
  {
   "cell_type": "markdown",
   "metadata": {},
   "source": [
    "### 6. Plot and save the Training Curve"
   ]
  },
  {
   "cell_type": "code",
   "execution_count": 10,
   "metadata": {},
   "outputs": [
    {
     "data": {
      "image/png": "[encoded data removed]",
      "text/plain": [
       "<Figure size 864x432 with 1 Axes>"
      ]
     },
     "metadata": {
      "needs_background": "light"
     },
     "output_type": "display_data"
    }
   ],
   "source": [
    "import matplotlib.pyplot as plt\n",
    "%matplotlib inline\n",
    "\n",
    "fig, ax = plt.subplots(figsize=(12, 6))\n",
    "fig.suptitle(\"Learning Curve\", fontsize=15)\n",
    "\n",
    "ax.plot(np.arange(1, len(scores)+1), scores, color=\"forestgreen\", label=\"Best Agent's Score\")\n",
    "ax.plot(np.arange(1, len(scores)+1), moving_average_scores, color=\"saddlebrown\", label=\"Moving Average Score\")\n",
    "plt.xlim(left=1)\n",
    "#plt.ylim(bottom=-1)\n",
    "ax.set_xlabel(\"Episode\")\n",
    "ax.set_ylabel(\"Score\")\n",
    "ax.grid(True)\n",
    "ax.grid(b=True, which='major', color='gray', linestyle='-', linewidth=0.75)\n",
    "ax.minorticks_on()\n",
    "ax.grid(b=True, which='minor', color='gray', linestyle='-', alpha=.75, linewidth=0.25)\n",
    "plt.legend(loc='upper left')\n",
    "plt.show()\n",
    "\n",
    "#  save plot to a file\n",
    "fig.savefig(\"learning_curve1.jpg\")"
   ]
  }
 ],
 "metadata": {
  "@webio": {
   "lastCommId": null,
   "lastKernelId": null
  },
  "kernelspec": {
   "display_name": "drlnd",
   "language": "python",
   "name": "drlnd"
  },
  "language_info": {
   "codemirror_mode": {
    "name": "ipython",
    "version": 3
   },
   "file_extension": ".py",
   "mimetype": "text/x-python",
   "name": "python",
   "nbconvert_exporter": "python",
   "pygments_lexer": "ipython3",
   "version": "3.6.9"
  }
 },
 "nbformat": 4,
 "nbformat_minor": 2
}
