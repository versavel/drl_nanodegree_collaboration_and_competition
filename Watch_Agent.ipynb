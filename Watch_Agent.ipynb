{
 "cells": [
  {
   "cell_type": "markdown",
   "metadata": {},
   "source": [
    "# Project #3 : Collaboration and Competition\n",
    "\n",
    "## Part 2: Watch the Trained Agent\n",
    "\n",
    "---\n",
    "\n",
    "Use this notebook to watch a trained Unity Tennis agent"
   ]
  },
  {
   "cell_type": "markdown",
   "metadata": {},
   "source": [
    "### 1. Import libraries"
   ]
  },
  {
   "cell_type": "code",
   "execution_count": 1,
   "metadata": {},
   "outputs": [],
   "source": [
    "import torch\n",
    "import numpy as np\n",
    "from collections import deque\n",
    "#import random\n",
    "import time"
   ]
  },
  {
   "cell_type": "markdown",
   "metadata": {},
   "source": [
    "### 2. Load the Environment and Agent classes "
   ]
  },
  {
   "cell_type": "code",
   "execution_count": 2,
   "metadata": {},
   "outputs": [
    {
     "name": "stdout",
     "output_type": "stream",
     "text": [
      "\n",
      "   *****************\n",
      "   *** Using CPU ***\n",
      "   *****************\n",
      "\n"
     ]
    }
   ],
   "source": [
    "from unityagents import UnityEnvironment\n",
    "from maddpg_agent import MADDPG_Agent"
   ]
  },
  {
   "cell_type": "markdown",
   "metadata": {},
   "source": [
    "### 3. Initialize the environment"
   ]
  },
  {
   "cell_type": "markdown",
   "metadata": {},
   "source": [
    "Next, we will start the environment!  **_Before running the code cell below_**, change the `file_name` parameter to match the location of the Unity environment that you downloaded.\n",
    "\n",
    "- **Mac**: `\"path/to/Tennis.app\"`\n",
    "- **Windows** (x86): `\"path/to/Tennis_Windows_x86/Tennis.exe\"`\n",
    "- **Windows** (x86_64): `\"path/to/Tennis_Windows_x86_64/Tennis.exe\"`\n",
    "- **Linux** (x86): `\"path/to/Tennis_Linux/Tennis.x86\"`\n",
    "- **Linux** (x86_64): `\"path/to/Tennis_Linux/Tennis.x86_64\"`\n",
    "- **Linux** (x86, headless): `\"path/to/Tennis_Linux_NoVis/Tennis.x86\"`\n",
    "- **Linux** (x86_64, headless): `\"path/to/Tennis_Linux_NoVis/Tennis.x86_64\"`\n",
    "\n",
    "For instance, if you are using a Mac, then you downloaded `Tennis.app`.  If this file is in the same folder as the notebook, then the line below should appear as follows:\n",
    "```\n",
    "env = UnityEnvironment(file_name=\"Tennis.app\")\n",
    "```"
   ]
  },
  {
   "cell_type": "code",
   "execution_count": 3,
   "metadata": {},
   "outputs": [
    {
     "name": "stderr",
     "output_type": "stream",
     "text": [
      "INFO:unityagents:\n",
      "'Academy' started successfully!\n",
      "Unity Academy name: Academy\n",
      "        Number of Brains: 1\n",
      "        Number of External Brains : 1\n",
      "        Lesson number : 0\n",
      "        Reset Parameters :\n",
      "\t\t\n",
      "Unity brain name: TennisBrain\n",
      "        Number of Visual Observations (per agent): 0\n",
      "        Vector Observation space type: continuous\n",
      "        Vector Observation space size (per agent): 8\n",
      "        Number of stacked Vector Observation: 3\n",
      "        Vector Action space type: continuous\n",
      "        Vector Action space size (per agent): 2\n",
      "        Vector Action descriptions: , \n"
     ]
    }
   ],
   "source": [
    "# on my iMac \n",
    "env = UnityEnvironment(file_name=\"Tennis.app\")\n",
    "\n",
    "# in my Udacity Workspace\n",
    "#env = UnityEnvironment(file_name='/data/Tennis_Linux/Tennis.x86_64')"
   ]
  },
  {
   "cell_type": "code",
   "execution_count": 4,
   "metadata": {},
   "outputs": [],
   "source": [
    "brain_name = env.brain_names[0]\n",
    "brain = env.brains[brain_name]\n",
    "env_info = env.reset(train_mode=False)[brain_name]     # reset the environment    \n",
    "num_agents = len(env_info.agents)\n",
    "action_size = brain.vector_action_space_size\n",
    "states = env_info.vector_observations                  # get the current state (for each agent)\n",
    "state_size = states.shape[1]"
   ]
  },
  {
   "cell_type": "markdown",
   "metadata": {},
   "source": [
    "### 4. Initialize the agent\n",
    "\n",
    "**Make sure the parameters below are set to the same values used for training !**"
   ]
  },
  {
   "cell_type": "code",
   "execution_count": 5,
   "metadata": {},
   "outputs": [],
   "source": [
    "# set the agent and model hyperparameters\n",
    "\n",
    "class Config():\n",
    "    def __init__(self):\n",
    "\n",
    "        self.ADD_NOISE = False        # if True, Ornstein-Uhlenbeck Noise is added to actions\n",
    "    \n",
    "        self.FC1_UNITS_ACTOR = 256   # number of nodes in Actor's first fully connected layer\n",
    "        self.FC2_UNITS_ACTOR = 128   # number of nodes in Actor's second fully connected layer\n",
    "        self.FCS1_UNITS_CRITIC = 256 # number of nodes in Critic's first fully connected layer\n",
    "        self.FC2_UNITS_CRITIC = 128  # number of nodes in Critic's second fully connected layer\n",
    "        \n",
    "        \n",
    "        self.SEED = 42               # seed for random number generator\n",
    "        self.PRINT_EVERY = 100       # number of episodes after which the training procedures prints out a persistent update\n",
    "\n",
    "        self.TARGET_SCORE = 0.5      # target score; training is complete when target score is met\n",
    "        self.WINDOW_SIZE = 100       # number of episodes over which the average episode score is calculated\n",
    "        \n",
    "        self.BUFFER_SIZE = int(1e6)  # replay buffer size\n",
    "        self.BATCH_SIZE = 128        # minibatch size\n",
    "\n",
    "        self.LR_ACTOR = 1e-4         # learning rate of the actor \n",
    "        self.LR_CRITIC = 5e-4        # learning rate of the critic\n",
    "        #self.LR_ACTOR = 1e-3         # learning rate of the actor\n",
    "        #self.LR_CRITIC = 1e-3        # learning rate of the critic\n",
    "        #self.WEIGHT_DECAY = 0        # regularization weight decay (L2 penalty)\n",
    "\n",
    "        self.LEARN_EVERY = 1         # learning timestep interval\n",
    "        self.LEARN_NUM = 1           # number of learning passes\n",
    "        \n",
    "        self.GAMMA = 0.99            # reward discount factor\n",
    "        self.TAU = 7e-2              # for soft update of target parameters\n",
    "\n",
    "        self.ADD_NOISE = True        # if True, Ornstein-Uhlenbeck Noise is added to actions\n",
    "        #self.OU_NOISE = True         # if True, Ornstein-Uhlenbeck Noise is added to actions\n",
    "        self.OU_SIGMA = 0.2          # Ornstein-Uhlenbeck noise parameter volatility\n",
    "        self.OU_THETA = 0.12         # Ornstein-Uhlenbeck noise parameter speed of mean reversion\n",
    "        self.EPS_INITIAL = 5.5       # initial value of epsilon in Ornstein-Uhlenbeck noise process\n",
    "        self.EPS_TERMINAL = 0        # terminal value of epsilon in Ornstein-Uhlenbeck noise process\n",
    "        self.EPS_DECAY = 250         # number of episodes over which epsilon decays in OU noise process\n",
    "\n",
    "\n",
    "config = Config()"
   ]
  },
  {
   "cell_type": "code",
   "execution_count": 6,
   "metadata": {},
   "outputs": [],
   "source": [
    "agent_0 = MADDPG_Agent(state_size, action_size, 1, config)\n",
    "agent_1 = MADDPG_Agent(state_size, action_size, 1, config)\n",
    "\n",
    "# Load the weights generated during training\n",
    "agent_0.actor_local.load_state_dict(torch.load(\"checkpoint_actor_0.pth\", map_location=lambda storage, loc: storage))\n",
    "#agent_0.critic_local.load_state_dict(torch.load(\"checkpoint_critic_0.pth\", map_location=lambda storage, loc: storage))\n",
    "\n",
    "# Load the weights generated during training\n",
    "agent_1.actor_local.load_state_dict(torch.load(\"checkpoint_actor_1.pth\", map_location=lambda storage, loc: storage))\n",
    "#agent_1.critic_local.load_state_dict(torch.load(\"checkpoint_critic_1.pth\", map_location=lambda storage, loc: storage))"
   ]
  },
  {
   "cell_type": "markdown",
   "metadata": {},
   "source": [
    "### 5. Watch the agent interact with its environment"
   ]
  },
  {
   "cell_type": "code",
   "execution_count": 7,
   "metadata": {},
   "outputs": [
    {
     "name": "stdout",
     "output_type": "stream",
     "text": [
      "Step 172\tScore : 0.50"
     ]
    }
   ],
   "source": [
    "# Set the number of time steps you want to watch\n",
    "steps = 0\n",
    "scores = np.zeros(num_agents)                          # initialize the score (for each agent)\n",
    "\n",
    "while np.max(scores) < 0.5 :\n",
    "    steps += 1\n",
    "    a0 = agent_0.play(states)           # agent 0 chooses an action\n",
    "    a1 = agent_1.play(states)           # agent 1 chooses an action\n",
    "    actions = np.concatenate((a0, a1), axis=0).flatten() # combine agent actions\n",
    "    env_info = env.step(actions)[brain_name]             # send both agents' actions together to the environment\n",
    "    next_states = np.reshape(env_info.vector_observations, (1, 48)) # combine the agent next states\n",
    "    rewards = env_info.rewards                           # get reward\n",
    "    dones = env_info.local_done                          # see if episode finished\n",
    "    scores += rewards                            # update the score\n",
    "    print('\\rStep {:3}\\tScore : {:.2f}'.format(steps, np.max(scores)), end=\"\")\n",
    "    states = next_states                                 # roll over states to next time step\n",
    "    if np.any(dones):                                    # exit loop if episode finished\n",
    "        break"
   ]
  },
  {
   "cell_type": "code",
   "execution_count": 8,
   "metadata": {},
   "outputs": [],
   "source": [
    "env.close()"
   ]
  }
 ],
 "metadata": {
  "@webio": {
   "lastCommId": null,
   "lastKernelId": null
  },
  "kernelspec": {
   "display_name": "drlnd",
   "language": "python",
   "name": "drlnd"
  },
  "language_info": {
   "codemirror_mode": {
    "name": "ipython",
    "version": 3
   },
   "file_extension": ".py",
   "mimetype": "text/x-python",
   "name": "python",
   "nbconvert_exporter": "python",
   "pygments_lexer": "ipython3",
   "version": "3.6.9"
  }
 },
 "nbformat": 4,
 "nbformat_minor": 2
}
